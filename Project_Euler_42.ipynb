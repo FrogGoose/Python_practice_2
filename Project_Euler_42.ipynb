{
 "cells": [
  {
   "cell_type": "code",
   "execution_count": null,
   "metadata": {},
   "outputs": [],
   "source": [
    "Coded triangle numbers   Problem 42 \n",
    "\n",
    "\n",
    "The nth term of the sequence of triangle numbers is given by, tn = ½n(n+1); so the first ten triangle numbers are:\n",
    "\n",
    "1, 3, 6, 10, 15, 21, 28, 36, 45, 55, ...\n",
    "\n",
    "By converting each letter in a word to a number corresponding to its alphabetical position and adding these values we form a word value. For example, the word value for SKY is 19 + 11 + 25 = 55 = t10. If the word value is a triangle number then we shall call the word a triangle word.\n",
    "\n",
    "Using words.txt (right click and 'Save Link/Target As...'), a 16K text file containing nearly two-thousand common English words, how many are triangle words?"
   ]
  },
  {
   "cell_type": "code",
   "execution_count": 1,
   "metadata": {},
   "outputs": [],
   "source": [
    "# read data\n",
    "import win32clipboard\n",
    "import numpy as np\n",
    "win32clipboard.OpenClipboard()\n",
    "data = win32clipboard.GetClipboardData()\n",
    "win32clipboard.CloseClipboard()\n",
    "#newdata = data.replace(\"\\r\\n\",\" \")\n",
    "#newdata = data.replace(\" \",\"  \")\n",
    "names = data.split(\",\")\n",
    "names.sort()"
   ]
  },
  {
   "cell_type": "code",
   "execution_count": 4,
   "metadata": {},
   "outputs": [
    {
     "name": "stdout",
     "output_type": "stream",
     "text": [
      "16\n"
     ]
    }
   ],
   "source": [
    "# find the name with longest length\n",
    "t = 0\n",
    "for i in range(len(names)):\n",
    "    length = len(names[i])\n",
    "    if length > t:\n",
    "        t = length\n",
    "print(t)"
   ]
  },
  {
   "cell_type": "code",
   "execution_count": 8,
   "metadata": {},
   "outputs": [],
   "source": [
    "# so the largest word value is 16 * 26 = 416\n",
    "t = 1\n",
    "trinums = []\n",
    "while True:\n",
    "    tem = t * (t+1) / 2\n",
    "    trinums.append(tem)\n",
    "    if trinums[-1] > 416:\n",
    "        break\n",
    "    else:\n",
    "        t += 1"
   ]
  },
  {
   "cell_type": "code",
   "execution_count": 10,
   "metadata": {},
   "outputs": [],
   "source": [
    "def sums_str(a):\n",
    "    total = 0\n",
    "    total = a.count('A')*1 + a.count('B')*2 + a.count('C')*3 + a.count('D')*4 + a.count('E')*5 + a.count('F')*6 + a.count('G')*7 + a.count('H')*8 + a.count('I')*9 + a.count('J')*10 + a.count('K')*11 + a.count('L')*12 + a.count('M')*13 + a.count('N')*14 + a.count('O')*15 + a.count('P')*16 + a.count('Q')*17 + a.count('R')*18 + a.count('S')*19 + a.count('T')*20 + a.count('U')*21 + a.count('V')*22 + a.count('W')*23 + a.count('X')*24 + a.count('Y')*25 +a.count(\"Z\")*26\n",
    "    return (total)"
   ]
  },
  {
   "cell_type": "code",
   "execution_count": 11,
   "metadata": {},
   "outputs": [
    {
     "name": "stdout",
     "output_type": "stream",
     "text": [
      "162\n",
      "time used: 0.07300400733947754\n"
     ]
    }
   ],
   "source": [
    "import time\n",
    "start = time.time()\n",
    "total = 0\n",
    "for i in range(len(names)):\n",
    "    if sums_str(names[i]) in trinums:\n",
    "        total += 1\n",
    "print(total)\n",
    "print(\"time used:\", time.time()-start)"
   ]
  }
 ],
 "metadata": {
  "kernelspec": {
   "display_name": "Python 3",
   "language": "python",
   "name": "python3"
  },
  "language_info": {
   "codemirror_mode": {
    "name": "ipython",
    "version": 3
   },
   "file_extension": ".py",
   "mimetype": "text/x-python",
   "name": "python",
   "nbconvert_exporter": "python",
   "pygments_lexer": "ipython3",
   "version": "3.6.4"
  }
 },
 "nbformat": 4,
 "nbformat_minor": 2
}
