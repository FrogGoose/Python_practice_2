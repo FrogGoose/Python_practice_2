{
 "cells": [
  {
   "cell_type": "code",
   "execution_count": null,
   "metadata": {},
   "outputs": [],
   "source": [
    "Digit fifth powers  Problem 30 \n",
    "\n",
    "\n",
    "Surprisingly there are only three numbers that can be written as the sum of fourth powers of their digits:\n",
    "\n",
    "1634 = 14 + 64 + 34 + 44\n",
    "8208 = 84 + 24 + 04 + 84\n",
    "9474 = 94 + 44 + 74 + 44\n",
    "As 1 = 14 is not a sum it is not included.\n",
    "\n",
    "The sum of these numbers is 1634 + 8208 + 9474 = 19316.\n",
    "\n",
    "Find the sum of all the numbers that can be written as the sum of fifth powers of their digits."
   ]
  },
  {
   "cell_type": "code",
   "execution_count": 10,
   "metadata": {},
   "outputs": [],
   "source": [
    "# For fourth powers, if a number contains 6 or above digits, then this number can not be \n",
    "# written as the sum of fourth powers of their digits, since the maximum (9**4)*6 = 39366 is a five digits number.\n",
    "# if the number contains 5 digits, then the maximum possibe number would be 32805"
   ]
  },
  {
   "cell_type": "code",
   "execution_count": 31,
   "metadata": {},
   "outputs": [
    {
     "name": "stdout",
     "output_type": "stream",
     "text": [
      "[1634, 8208, 9474]\n",
      "19316\n"
     ]
    }
   ],
   "source": [
    "# exhausted search\n",
    "num = []\n",
    "for i in range(2,32806):\n",
    "    a = str(i)\n",
    "    b = sum(np.array(list(map(int, a))) ** 4)\n",
    "    if i == b:\n",
    "        num.append(i)\n",
    "print(num)\n",
    "print(sum(num))"
   ]
  },
  {
   "cell_type": "code",
   "execution_count": 41,
   "metadata": {},
   "outputs": [
    {
     "name": "stdout",
     "output_type": "stream",
     "text": [
      "443839\n",
      "time used: 2.3650243282318115\n"
     ]
    }
   ],
   "source": [
    "#similiar for fifth powers, the number can not exceed 354294\n",
    "# exhausted search\n",
    "import time\n",
    "start = time.time()\n",
    "num = []\n",
    "for i in range(2,354294):\n",
    "    a = str(i)\n",
    "    b = sum(np.array(list(map(int, a))) ** 5)\n",
    "    if i == b:\n",
    "        num.append(i)\n",
    "print(sum(num))\n",
    "print(\"time used:\", time.time()-start)"
   ]
  }
 ],
 "metadata": {
  "kernelspec": {
   "display_name": "Python 3",
   "language": "python",
   "name": "python3"
  },
  "language_info": {
   "codemirror_mode": {
    "name": "ipython",
    "version": 3
   },
   "file_extension": ".py",
   "mimetype": "text/x-python",
   "name": "python",
   "nbconvert_exporter": "python",
   "pygments_lexer": "ipython3",
   "version": "3.6.4"
  }
 },
 "nbformat": 4,
 "nbformat_minor": 2
}
