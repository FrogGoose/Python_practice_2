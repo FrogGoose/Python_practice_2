{
 "cells": [
  {
   "cell_type": "code",
   "execution_count": null,
   "metadata": {},
   "outputs": [],
   "source": [
    "there are n stairs in total, one person takes one stair or takes two stairs each time, \n",
    "how many ways in total can this person take to finish n stairs????\n",
    "\n",
    "# if n = 1, then there is only one way\n",
    "# if n = 2, then there are two ways\n",
    "# critical thinking: the number of ways to finish n stairs must be equal to  \n",
    "# the number of ways of finishing n-1 stairs + the number of ways of finishing n-2 stairs"
   ]
  },
  {
   "cell_type": "code",
   "execution_count": 17,
   "metadata": {},
   "outputs": [],
   "source": [
    "n = 1000\n",
    "a = [0] * n\n",
    "def num_ways(n):\n",
    "    if n == 1 or n == 2:\n",
    "        return (n)\n",
    "    if a[n-1] == 0 :\n",
    "        a[n-1] = num_ways(n-1)\n",
    "    if a[n-2] == 0:\n",
    "        a[n-2] = num_ways(n-2)\n",
    "    return (a[n-1]+a[n-2])"
   ]
  },
  {
   "cell_type": "code",
   "execution_count": 21,
   "metadata": {},
   "outputs": [],
   "source": [
    "def recrusive(n):\n",
    "    if n == 1 or n == 2:\n",
    "        return (n)\n",
    "    s = 0\n",
    "    s = recrusive(n-2) + recrusive(n-1)\n",
    "    return (s)\n",
    "    "
   ]
  },
  {
   "cell_type": "code",
   "execution_count": 36,
   "metadata": {},
   "outputs": [
    {
     "name": "stdout",
     "output_type": "stream",
     "text": [
      "165580141\n",
      "time used: 0.0\n"
     ]
    }
   ],
   "source": [
    "import time\n",
    "start = time.time()\n",
    "print(num_ways(40))\n",
    "print(\"time used:\", time.time()-start)"
   ]
  },
  {
   "cell_type": "code",
   "execution_count": 37,
   "metadata": {},
   "outputs": [
    {
     "name": "stdout",
     "output_type": "stream",
     "text": [
      "165580141\n",
      "time used: 55.84948945045471\n"
     ]
    }
   ],
   "source": [
    "import time\n",
    "start = time.time()\n",
    "print(recrusive(40))\n",
    "print(\"time used:\", time.time()-start)"
   ]
  }
 ],
 "metadata": {
  "kernelspec": {
   "display_name": "Python 3",
   "language": "python",
   "name": "python3"
  },
  "language_info": {
   "codemirror_mode": {
    "name": "ipython",
    "version": 3
   },
   "file_extension": ".py",
   "mimetype": "text/x-python",
   "name": "python",
   "nbconvert_exporter": "python",
   "pygments_lexer": "ipython3",
   "version": "3.6.4"
  }
 },
 "nbformat": 4,
 "nbformat_minor": 2
}
