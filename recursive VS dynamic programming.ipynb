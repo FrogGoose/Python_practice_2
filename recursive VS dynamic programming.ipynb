{
 "cells": [
  {
   "cell_type": "code",
   "execution_count": null,
   "metadata": {},
   "outputs": [],
   "source": [
    "# recursive algorithm and dynamic programming practice"
   ]
  },
  {
   "cell_type": "code",
   "execution_count": 10,
   "metadata": {},
   "outputs": [],
   "source": [
    "# recursive algorithm\n",
    "def factorial(n):\n",
    "    if n == 0 or n == 1:\n",
    "        return (1)\n",
    "    return (n * factorial(n-1))"
   ]
  },
  {
   "cell_type": "code",
   "execution_count": 54,
   "metadata": {},
   "outputs": [
    {
     "name": "stdout",
     "output_type": "stream",
     "text": [
      "93326215443944152681699238856266700490715968264381621468592963895217599993229915608941463976156518286253697920827223758251185210916864000000000000000000000000\n",
      "time used: 0.0009999275207519531\n"
     ]
    }
   ],
   "source": [
    "import time\n",
    "start = time.time()\n",
    "print(factorial(100))\n",
    "print(\"time used:\", time.time()-start)"
   ]
  },
  {
   "cell_type": "code",
   "execution_count": 55,
   "metadata": {},
   "outputs": [],
   "source": [
    "# dynamic programming\n",
    "n = 100\n",
    "tem = [0] * n\n",
    "def dyfac(n):\n",
    "    if n == 1 or n == 0:\n",
    "        return (1)\n",
    "    if tem[n-1] == 0:\n",
    "        tem[n-1] = dyfac(n-1)\n",
    "    return (n * tem[n-1])"
   ]
  },
  {
   "cell_type": "code",
   "execution_count": 56,
   "metadata": {},
   "outputs": [
    {
     "name": "stdout",
     "output_type": "stream",
     "text": [
      "93326215443944152681699238856266700490715968264381621468592963895217599993229915608941463976156518286253697920827223758251185210916864000000000000000000000000\n",
      "time used: 0.0\n"
     ]
    }
   ],
   "source": [
    "import time\n",
    "start = time.time()\n",
    "print(dyfac(n))\n",
    "print(\"time used:\", time.time()-start)"
   ]
  },
  {
   "cell_type": "code",
   "execution_count": 43,
   "metadata": {},
   "outputs": [],
   "source": [
    "#Fibonacci number\n",
    "# recursive algorithm\n",
    "def fibnum(n):\n",
    "    if n == 1 or n == 2:\n",
    "        return (1)\n",
    "    return(fibnum(n-1)+fibnum(n-2))"
   ]
  },
  {
   "cell_type": "code",
   "execution_count": 51,
   "metadata": {},
   "outputs": [
    {
     "name": "stdout",
     "output_type": "stream",
     "text": [
      "102334155\n",
      "time used: 32.13751673698425\n"
     ]
    }
   ],
   "source": [
    "import time\n",
    "start = time.time()\n",
    "print(fibnum(40))\n",
    "print(\"time used:\", time.time()-start)"
   ]
  },
  {
   "cell_type": "code",
   "execution_count": 52,
   "metadata": {},
   "outputs": [],
   "source": [
    "# dynamic programming\n",
    "def dyfibnum(n):\n",
    "    a = [0] * n\n",
    "    def fibseq(n):\n",
    "        if n == 1 or n == 2:\n",
    "            return(1)\n",
    "        if a[n-1] == 0:\n",
    "            a[n-1] = fibseq(n-1)\n",
    "        if a[n-2] == 0:\n",
    "            a[n-2] = fibseq(n-2)\n",
    "        return(a[n-1]+a[n-2])\n",
    "    return(fibseq(n))"
   ]
  },
  {
   "cell_type": "code",
   "execution_count": 53,
   "metadata": {},
   "outputs": [
    {
     "name": "stdout",
     "output_type": "stream",
     "text": [
      "102334155\n",
      "time used: 0.0\n"
     ]
    }
   ],
   "source": [
    "import time\n",
    "start = time.time()\n",
    "print(dyfibnum(40))\n",
    "print(\"time used:\", time.time()-start)"
   ]
  }
 ],
 "metadata": {
  "kernelspec": {
   "display_name": "Python 3",
   "language": "python",
   "name": "python3"
  },
  "language_info": {
   "codemirror_mode": {
    "name": "ipython",
    "version": 3
   },
   "file_extension": ".py",
   "mimetype": "text/x-python",
   "name": "python",
   "nbconvert_exporter": "python",
   "pygments_lexer": "ipython3",
   "version": "3.6.4"
  }
 },
 "nbformat": 4,
 "nbformat_minor": 2
}
